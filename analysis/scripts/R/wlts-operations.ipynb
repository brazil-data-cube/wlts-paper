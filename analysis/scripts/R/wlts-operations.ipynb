{
 "cells": [
  {
   "cell_type": "markdown",
   "id": "157f49fe",
   "metadata": {},
   "source": [
    "<img src=\"https://raw.githubusercontent.com/brazil-data-cube/code-gallery/master/img/logo-bdc.png\" align=\"right\" width=\"128\"/>\n",
    "\n",
    "# <span style=\"color:#336699\">Web Land Trajectory Service (WLTS) - Base article operations</span>\n",
    "<hr style=\"border:2px solid #0077b9;\">\n",
    "\n",
    "<br/>\n",
    "\n",
    "<div style=\"text-align: center;font-size: 90%;\">\n",
    "    Fabiana Zioti<sup><a href=\"https://orcid.org/0000-0002-7305-6043\"><i class=\"fab fa-lg fa-orcid\" style=\"color: #a6ce39\"></i></a></sup>, Karine Reis Ferreira<sup><a href=\"https://orcid.org/0000-0003-2656-5504\"><i class=\"fab fa-lg fa-orcid\" style=\"color: #a6ce39\"></i></a></sup>, Gilberto R. Queiroz<sup><a href=\"https://orcid.org/0000-0001-7534-0219\"><i class=\"fab fa-lg fa-orcid\" style=\"color: #a6ce39\"></i></a></sup>, Alana K. Neves, Felipe Menino Carlos<sup><a href=\"https://orcid.org/0000-0002-3334-4315\"><i class=\"fab fa-lg fa-orcid\" style=\"color: #a6ce39\"></i></a></sup>, Felipe Carvalho de Souza<sup><a href=\"https://orcid.org/0000-0002-5826-1700\"><i class=\"fab fa-lg fa-orcid\" style=\"color: #a6ce39\"></i></a></sup>, Lorena Santos<sup><a href=\"https://orcid.org/0000-0003-2612-5859\"><i class=\"fab fa-lg fa-orcid\" style=\"color: #a6ce39\"></i></a></sup>, Rolf Simoes<sup><a href=\"https://orcid.org/0000-0003-0953-4132\"><i class=\"fab fa-lg fa-orcid\" style=\"color: #a6ce39\"></i></a></sup>\n",
    "    <br/><br/>\n",
    "    Earth Observation and Geoinformatics Division, National Institute for Space Research (INPE)\n",
    "    <br/>\n",
    "    Avenida dos Astronautas, 1758, Jardim da Granja, São José dos Campos, SP 12227-010, Brazil\n",
    "    <br/><br/>\n",
    "    Contact: <a href=\"mailto:brazildatacube@inpe.br\">brazildatacube@inpe.br</a>\n",
    "    <br/><br/>\n",
    "</div>\n",
    "\n",
    "<br/>\n",
    "\n",
    "<div style=\"text-align: justify;  margin-left: 15%; margin-right: 15%;font-size: 75%; border-style: solid; border-color: #0077b9; border-width: 1px; padding: 5px;\">\n",
    "    <b>This Jupyter Notebook is a supplement of the following paper:</b>\n",
    "    <div style=\"margin-left: 10px; margin-right: 10px; margin-top:10px\">\n",
    "      <p> Zioti, F.; Ferreira, K.R.; Queiroz, G.R.; Neves, A.K.; Carlos, F.M.; Souza, F.C.; Santos, L.; Simoes, R.E; 2021. A platform for land use and land cover data integration and trajectory analysis. </p>\n",
    "    </div>\n",
    "</div>"
   ]
  },
  {
   "cell_type": "code",
   "execution_count": 11,
   "id": "804b2282",
   "metadata": {},
   "outputs": [],
   "source": [
    "library(rwlts)"
   ]
  },
  {
   "cell_type": "markdown",
   "id": "761b0d07",
   "metadata": {},
   "source": [
    "## Configurations\n",
    "\n",
    "To run the codes presented in this document, we need to make some settings. The first one is the definition of the addresses of the **W**eb **L**and **T**rajectory **S**ervice (WLTS).\n",
    "\n",
    "Thus, in this example, we will use these services provided by the [Brazil Data Cube project](http://brazildatacube.org/). The addresses are defined below:\n"
   ]
  },
  {
   "cell_type": "code",
   "execution_count": 15,
   "id": "86be9f15",
   "metadata": {},
   "outputs": [],
   "source": [
    "#\n",
    "# Web Land Trajectory Service (WLTS) URL\n",
    "#\n",
    "wlts_service_url <- \"https://brazildatacube.dpi.inpe.br/wlts/\""
   ]
  },
  {
   "cell_type": "markdown",
   "id": "8e529236",
   "metadata": {},
   "source": [
    "Additionally, since we will be using the BDC services, defining an **access token** will also be necessary. This token is mandatory, and once created, gives access to all BDC services and data products.\n",
    "\n",
    "> If you do not have an access token, you can create one through [Brazil Data Cube explorer](https://brazildatacube.dpi.inpe.br/portal/), the BDC data portal. In the portal, **create an account**, and in the **user settings**, **create your token**."
   ]
  },
  {
   "cell_type": "code",
   "execution_count": 2,
   "id": "051b7300",
   "metadata": {},
   "outputs": [],
   "source": [
    "bdc_access_token <- \"YOUR-BDC-SERVICES-TOKEN-HERE\""
   ]
  },
  {
   "cell_type": "markdown",
   "id": "ce8578b5",
   "metadata": {},
   "source": [
    "Finally, we will create a directory to store the data to ensure that the generated results are saved for posterior usage. In this case, we will put the data in the `analysis/data/derived_data/R-scripts` directory.\n",
    "\n",
    "The code below creates these directories that we will use:"
   ]
  },
  {
   "cell_type": "code",
   "execution_count": 6,
   "id": "9f44e807",
   "metadata": {},
   "outputs": [],
   "source": [
    "#\n",
    "# Defining the output directory\n",
    "#\n",
    "output_directory = \"../../data/derived_data/R-scripts\"\n",
    "\n",
    "#\n",
    "# Creating the output directory\n",
    "#\n",
    "dir.create(output_directory, recursive = T, showWarnings = F)"
   ]
  },
  {
   "cell_type": "markdown",
   "id": "7030d09f",
   "metadata": {},
   "source": [
    "## Listing 1 - Retrieving LULC trajectories\n",
    "\n",
    "This section uses the R package `rwlts` to access the BDC WLTS services and retrieve LULC trajectories from one point location, considering multiple collections. In this case, the following collections will be considered:\n",
    "\n",
    "- `TerraClass Amazon`;\n",
    "- `PRODES Amazon`;\n",
    "- `DETER`; \n",
    "- `IBGE`;\n",
    "- `MapBiomas`.\n"
   ]
  },
  {
   "cell_type": "markdown",
   "id": "3775ecda",
   "metadata": {},
   "source": [
    "**Defining the temporal period**"
   ]
  },
  {
   "cell_type": "code",
   "execution_count": 7,
   "id": "583ee6ff",
   "metadata": {},
   "outputs": [],
   "source": [
    "start_date <- \"2000-01-01\"\n",
    "end_date   <- \"2018-12-31\""
   ]
  },
  {
   "cell_type": "markdown",
   "id": "ff8ed22b",
   "metadata": {},
   "source": [
    "**Defining the collections to be consulted**"
   ]
  },
  {
   "cell_type": "code",
   "execution_count": 8,
   "id": "0c60ab06",
   "metadata": {},
   "outputs": [
    {
     "data": {
      "text/html": [
       "'prodes_amazonia_legal,deter_amazonia_legal,terraclass_amazonia,mapbiomas_amazonia-v5,ibge_cobertura_uso_terra'"
      ],
      "text/latex": [
       "'prodes\\_amazonia\\_legal,deter\\_amazonia\\_legal,terraclass\\_amazonia,mapbiomas\\_amazonia-v5,ibge\\_cobertura\\_uso\\_terra'"
      ],
      "text/markdown": [
       "'prodes_amazonia_legal,deter_amazonia_legal,terraclass_amazonia,mapbiomas_amazonia-v5,ibge_cobertura_uso_terra'"
      ],
      "text/plain": [
       "[1] \"prodes_amazonia_legal,deter_amazonia_legal,terraclass_amazonia,mapbiomas_amazonia-v5,ibge_cobertura_uso_terra\""
      ]
     },
     "metadata": {},
     "output_type": "display_data"
    }
   ],
   "source": [
    "collections <- \"prodes_amazonia_legal,deter_amazonia_legal,terraclass_amazonia,mapbiomas_amazonia-v5,ibge_cobertura_uso_terra\"\n",
    "collections"
   ]
  },
  {
   "cell_type": "markdown",
   "id": "1aea1619",
   "metadata": {},
   "source": [
    "**Retrieving the trajectories**"
   ]
  },
  {
   "cell_type": "code",
   "execution_count": 16,
   "id": "006dd6be",
   "metadata": {},
   "outputs": [],
   "source": [
    "trajectory_obj <- get_trajectory(\n",
    "    URL         = wlts_service_url,\n",
    "    latitude    = -6.2829, \n",
    "    longitude   = -52.3106, \n",
    "    start_date  = start_date,\n",
    "    end_date    = end_date,\n",
    "    collections = collections,\n",
    "    config      = httr::add_headers(\"x-api-key\" = bdc_access_token)\n",
    ")"
   ]
  },
  {
   "cell_type": "code",
   "execution_count": 31,
   "id": "d9a62a2a",
   "metadata": {},
   "outputs": [
    {
     "data": {
      "text/plain": [
       "$query\n",
       "NULL\n",
       "\n",
       "$result\n",
       "\u001b[90m# A tibble: 31 × 4\u001b[39m\n",
       "   class               collection               date  point_id\n",
       "   \u001b[3m\u001b[90m<chr>\u001b[39m\u001b[23m               \u001b[3m\u001b[90m<chr>\u001b[39m\u001b[23m                    \u001b[3m\u001b[90m<chr>\u001b[39m\u001b[23m    \u001b[3m\u001b[90m<int>\u001b[39m\u001b[23m\n",
       "\u001b[90m 1\u001b[39m Formação Florestal  mapbiomas_amazonia-v5    2000         1\n",
       "\u001b[90m 2\u001b[39m Vegetação Florestal ibge_cobertura_uso_terra 2000         1\n",
       "\u001b[90m 3\u001b[39m Formação Florestal  mapbiomas_amazonia-v5    2001         1\n",
       "\u001b[90m 4\u001b[39m Formação Florestal  mapbiomas_amazonia-v5    2002         1\n",
       "\u001b[90m 5\u001b[39m Formação Florestal  mapbiomas_amazonia-v5    2003         1\n",
       "\u001b[90m 6\u001b[39m Floresta            terraclass_amazonia      2004         1\n",
       "\u001b[90m 7\u001b[39m Formação Florestal  mapbiomas_amazonia-v5    2004         1\n",
       "\u001b[90m 8\u001b[39m Formação Florestal  mapbiomas_amazonia-v5    2005         1\n",
       "\u001b[90m 9\u001b[39m Formação Florestal  mapbiomas_amazonia-v5    2006         1\n",
       "\u001b[90m10\u001b[39m Formação Florestal  mapbiomas_amazonia-v5    2007         1\n",
       "\u001b[90m# … with 21 more rows\u001b[39m\n",
       "\n",
       "attr(,\"class\")\n",
       "[1] \"wlts\""
      ]
     },
     "metadata": {},
     "output_type": "display_data"
    }
   ],
   "source": [
    "trajectory_obj"
   ]
  },
  {
   "cell_type": "markdown",
   "id": "464bef2d",
   "metadata": {},
   "source": [
    "**Visualizing the trajectory as a Tibble**"
   ]
  },
  {
   "cell_type": "code",
   "execution_count": 17,
   "id": "4126bffb",
   "metadata": {
    "scrolled": false
   },
   "outputs": [
    {
     "data": {
      "text/html": [
       "<table class=\"dataframe\">\n",
       "<caption>A tibble: 31 × 4</caption>\n",
       "<thead>\n",
       "\t<tr><th scope=col>class</th><th scope=col>collection</th><th scope=col>date</th><th scope=col>point_id</th></tr>\n",
       "\t<tr><th scope=col>&lt;chr&gt;</th><th scope=col>&lt;chr&gt;</th><th scope=col>&lt;chr&gt;</th><th scope=col>&lt;int&gt;</th></tr>\n",
       "</thead>\n",
       "<tbody>\n",
       "\t<tr><td>Formação Florestal                    </td><td>mapbiomas_amazonia-v5   </td><td>2000</td><td>1</td></tr>\n",
       "\t<tr><td>Vegetação Florestal                   </td><td>ibge_cobertura_uso_terra</td><td>2000</td><td>1</td></tr>\n",
       "\t<tr><td>Formação Florestal                    </td><td>mapbiomas_amazonia-v5   </td><td>2001</td><td>1</td></tr>\n",
       "\t<tr><td>Formação Florestal                    </td><td>mapbiomas_amazonia-v5   </td><td>2002</td><td>1</td></tr>\n",
       "\t<tr><td>Formação Florestal                    </td><td>mapbiomas_amazonia-v5   </td><td>2003</td><td>1</td></tr>\n",
       "\t<tr><td>Floresta                              </td><td>terraclass_amazonia     </td><td>2004</td><td>1</td></tr>\n",
       "\t<tr><td>Formação Florestal                    </td><td>mapbiomas_amazonia-v5   </td><td>2004</td><td>1</td></tr>\n",
       "\t<tr><td>Formação Florestal                    </td><td>mapbiomas_amazonia-v5   </td><td>2005</td><td>1</td></tr>\n",
       "\t<tr><td>Formação Florestal                    </td><td>mapbiomas_amazonia-v5   </td><td>2006</td><td>1</td></tr>\n",
       "\t<tr><td>Formação Florestal                    </td><td>mapbiomas_amazonia-v5   </td><td>2007</td><td>1</td></tr>\n",
       "\t<tr><td>Desmatamento                          </td><td>prodes_amazonia_legal   </td><td>2008</td><td>1</td></tr>\n",
       "\t<tr><td>Desflorestamento                      </td><td>terraclass_amazonia     </td><td>2008</td><td>1</td></tr>\n",
       "\t<tr><td>Pastagem                              </td><td>mapbiomas_amazonia-v5   </td><td>2008</td><td>1</td></tr>\n",
       "\t<tr><td>Pastagem                              </td><td>mapbiomas_amazonia-v5   </td><td>2009</td><td>1</td></tr>\n",
       "\t<tr><td>Regeneração com Pasto                 </td><td>terraclass_amazonia     </td><td>2010</td><td>1</td></tr>\n",
       "\t<tr><td>Pastagem                              </td><td>mapbiomas_amazonia-v5   </td><td>2010</td><td>1</td></tr>\n",
       "\t<tr><td>Mosaico de Ocupações em Área Florestal</td><td>ibge_cobertura_uso_terra</td><td>2010</td><td>1</td></tr>\n",
       "\t<tr><td>Pastagem                              </td><td>mapbiomas_amazonia-v5   </td><td>2011</td><td>1</td></tr>\n",
       "\t<tr><td>Pasto Sujo                            </td><td>terraclass_amazonia     </td><td>2012</td><td>1</td></tr>\n",
       "\t<tr><td>Pastagem                              </td><td>mapbiomas_amazonia-v5   </td><td>2012</td><td>1</td></tr>\n",
       "\t<tr><td>Mosaico de Ocupações em Área Florestal</td><td>ibge_cobertura_uso_terra</td><td>2012</td><td>1</td></tr>\n",
       "\t<tr><td>Pastagem                              </td><td>mapbiomas_amazonia-v5   </td><td>2013</td><td>1</td></tr>\n",
       "\t<tr><td>Pasto Limpo                           </td><td>terraclass_amazonia     </td><td>2014</td><td>1</td></tr>\n",
       "\t<tr><td>Pastagem                              </td><td>mapbiomas_amazonia-v5   </td><td>2014</td><td>1</td></tr>\n",
       "\t<tr><td>Mosaico de Ocupações em Área Florestal</td><td>ibge_cobertura_uso_terra</td><td>2014</td><td>1</td></tr>\n",
       "\t<tr><td>Pastagem                              </td><td>mapbiomas_amazonia-v5   </td><td>2015</td><td>1</td></tr>\n",
       "\t<tr><td>Pastagem                              </td><td>mapbiomas_amazonia-v5   </td><td>2016</td><td>1</td></tr>\n",
       "\t<tr><td>Mosaico de Ocupações em Área Florestal</td><td>ibge_cobertura_uso_terra</td><td>2016</td><td>1</td></tr>\n",
       "\t<tr><td>Pastagem                              </td><td>mapbiomas_amazonia-v5   </td><td>2017</td><td>1</td></tr>\n",
       "\t<tr><td>Pastagem                              </td><td>mapbiomas_amazonia-v5   </td><td>2018</td><td>1</td></tr>\n",
       "\t<tr><td>Mosaico de Ocupações em Área Florestal</td><td>ibge_cobertura_uso_terra</td><td>2018</td><td>1</td></tr>\n",
       "</tbody>\n",
       "</table>\n"
      ],
      "text/latex": [
       "A tibble: 31 × 4\n",
       "\\begin{tabular}{llll}\n",
       " class & collection & date & point\\_id\\\\\n",
       " <chr> & <chr> & <chr> & <int>\\\\\n",
       "\\hline\n",
       "\t Formação Florestal                     & mapbiomas\\_amazonia-v5    & 2000 & 1\\\\\n",
       "\t Vegetação Florestal                    & ibge\\_cobertura\\_uso\\_terra & 2000 & 1\\\\\n",
       "\t Formação Florestal                     & mapbiomas\\_amazonia-v5    & 2001 & 1\\\\\n",
       "\t Formação Florestal                     & mapbiomas\\_amazonia-v5    & 2002 & 1\\\\\n",
       "\t Formação Florestal                     & mapbiomas\\_amazonia-v5    & 2003 & 1\\\\\n",
       "\t Floresta                               & terraclass\\_amazonia      & 2004 & 1\\\\\n",
       "\t Formação Florestal                     & mapbiomas\\_amazonia-v5    & 2004 & 1\\\\\n",
       "\t Formação Florestal                     & mapbiomas\\_amazonia-v5    & 2005 & 1\\\\\n",
       "\t Formação Florestal                     & mapbiomas\\_amazonia-v5    & 2006 & 1\\\\\n",
       "\t Formação Florestal                     & mapbiomas\\_amazonia-v5    & 2007 & 1\\\\\n",
       "\t Desmatamento                           & prodes\\_amazonia\\_legal    & 2008 & 1\\\\\n",
       "\t Desflorestamento                       & terraclass\\_amazonia      & 2008 & 1\\\\\n",
       "\t Pastagem                               & mapbiomas\\_amazonia-v5    & 2008 & 1\\\\\n",
       "\t Pastagem                               & mapbiomas\\_amazonia-v5    & 2009 & 1\\\\\n",
       "\t Regeneração com Pasto                  & terraclass\\_amazonia      & 2010 & 1\\\\\n",
       "\t Pastagem                               & mapbiomas\\_amazonia-v5    & 2010 & 1\\\\\n",
       "\t Mosaico de Ocupações em Área Florestal & ibge\\_cobertura\\_uso\\_terra & 2010 & 1\\\\\n",
       "\t Pastagem                               & mapbiomas\\_amazonia-v5    & 2011 & 1\\\\\n",
       "\t Pasto Sujo                             & terraclass\\_amazonia      & 2012 & 1\\\\\n",
       "\t Pastagem                               & mapbiomas\\_amazonia-v5    & 2012 & 1\\\\\n",
       "\t Mosaico de Ocupações em Área Florestal & ibge\\_cobertura\\_uso\\_terra & 2012 & 1\\\\\n",
       "\t Pastagem                               & mapbiomas\\_amazonia-v5    & 2013 & 1\\\\\n",
       "\t Pasto Limpo                            & terraclass\\_amazonia      & 2014 & 1\\\\\n",
       "\t Pastagem                               & mapbiomas\\_amazonia-v5    & 2014 & 1\\\\\n",
       "\t Mosaico de Ocupações em Área Florestal & ibge\\_cobertura\\_uso\\_terra & 2014 & 1\\\\\n",
       "\t Pastagem                               & mapbiomas\\_amazonia-v5    & 2015 & 1\\\\\n",
       "\t Pastagem                               & mapbiomas\\_amazonia-v5    & 2016 & 1\\\\\n",
       "\t Mosaico de Ocupações em Área Florestal & ibge\\_cobertura\\_uso\\_terra & 2016 & 1\\\\\n",
       "\t Pastagem                               & mapbiomas\\_amazonia-v5    & 2017 & 1\\\\\n",
       "\t Pastagem                               & mapbiomas\\_amazonia-v5    & 2018 & 1\\\\\n",
       "\t Mosaico de Ocupações em Área Florestal & ibge\\_cobertura\\_uso\\_terra & 2018 & 1\\\\\n",
       "\\end{tabular}\n"
      ],
      "text/markdown": [
       "\n",
       "A tibble: 31 × 4\n",
       "\n",
       "| class &lt;chr&gt; | collection &lt;chr&gt; | date &lt;chr&gt; | point_id &lt;int&gt; |\n",
       "|---|---|---|---|\n",
       "| Formação Florestal                     | mapbiomas_amazonia-v5    | 2000 | 1 |\n",
       "| Vegetação Florestal                    | ibge_cobertura_uso_terra | 2000 | 1 |\n",
       "| Formação Florestal                     | mapbiomas_amazonia-v5    | 2001 | 1 |\n",
       "| Formação Florestal                     | mapbiomas_amazonia-v5    | 2002 | 1 |\n",
       "| Formação Florestal                     | mapbiomas_amazonia-v5    | 2003 | 1 |\n",
       "| Floresta                               | terraclass_amazonia      | 2004 | 1 |\n",
       "| Formação Florestal                     | mapbiomas_amazonia-v5    | 2004 | 1 |\n",
       "| Formação Florestal                     | mapbiomas_amazonia-v5    | 2005 | 1 |\n",
       "| Formação Florestal                     | mapbiomas_amazonia-v5    | 2006 | 1 |\n",
       "| Formação Florestal                     | mapbiomas_amazonia-v5    | 2007 | 1 |\n",
       "| Desmatamento                           | prodes_amazonia_legal    | 2008 | 1 |\n",
       "| Desflorestamento                       | terraclass_amazonia      | 2008 | 1 |\n",
       "| Pastagem                               | mapbiomas_amazonia-v5    | 2008 | 1 |\n",
       "| Pastagem                               | mapbiomas_amazonia-v5    | 2009 | 1 |\n",
       "| Regeneração com Pasto                  | terraclass_amazonia      | 2010 | 1 |\n",
       "| Pastagem                               | mapbiomas_amazonia-v5    | 2010 | 1 |\n",
       "| Mosaico de Ocupações em Área Florestal | ibge_cobertura_uso_terra | 2010 | 1 |\n",
       "| Pastagem                               | mapbiomas_amazonia-v5    | 2011 | 1 |\n",
       "| Pasto Sujo                             | terraclass_amazonia      | 2012 | 1 |\n",
       "| Pastagem                               | mapbiomas_amazonia-v5    | 2012 | 1 |\n",
       "| Mosaico de Ocupações em Área Florestal | ibge_cobertura_uso_terra | 2012 | 1 |\n",
       "| Pastagem                               | mapbiomas_amazonia-v5    | 2013 | 1 |\n",
       "| Pasto Limpo                            | terraclass_amazonia      | 2014 | 1 |\n",
       "| Pastagem                               | mapbiomas_amazonia-v5    | 2014 | 1 |\n",
       "| Mosaico de Ocupações em Área Florestal | ibge_cobertura_uso_terra | 2014 | 1 |\n",
       "| Pastagem                               | mapbiomas_amazonia-v5    | 2015 | 1 |\n",
       "| Pastagem                               | mapbiomas_amazonia-v5    | 2016 | 1 |\n",
       "| Mosaico de Ocupações em Área Florestal | ibge_cobertura_uso_terra | 2016 | 1 |\n",
       "| Pastagem                               | mapbiomas_amazonia-v5    | 2017 | 1 |\n",
       "| Pastagem                               | mapbiomas_amazonia-v5    | 2018 | 1 |\n",
       "| Mosaico de Ocupações em Área Florestal | ibge_cobertura_uso_terra | 2018 | 1 |\n",
       "\n"
      ],
      "text/plain": [
       "   class                                  collection               date\n",
       "1  Formação Florestal                     mapbiomas_amazonia-v5    2000\n",
       "2  Vegetação Florestal                    ibge_cobertura_uso_terra 2000\n",
       "3  Formação Florestal                     mapbiomas_amazonia-v5    2001\n",
       "4  Formação Florestal                     mapbiomas_amazonia-v5    2002\n",
       "5  Formação Florestal                     mapbiomas_amazonia-v5    2003\n",
       "6  Floresta                               terraclass_amazonia      2004\n",
       "7  Formação Florestal                     mapbiomas_amazonia-v5    2004\n",
       "8  Formação Florestal                     mapbiomas_amazonia-v5    2005\n",
       "9  Formação Florestal                     mapbiomas_amazonia-v5    2006\n",
       "10 Formação Florestal                     mapbiomas_amazonia-v5    2007\n",
       "11 Desmatamento                           prodes_amazonia_legal    2008\n",
       "12 Desflorestamento                       terraclass_amazonia      2008\n",
       "13 Pastagem                               mapbiomas_amazonia-v5    2008\n",
       "14 Pastagem                               mapbiomas_amazonia-v5    2009\n",
       "15 Regeneração com Pasto                  terraclass_amazonia      2010\n",
       "16 Pastagem                               mapbiomas_amazonia-v5    2010\n",
       "17 Mosaico de Ocupações em Área Florestal ibge_cobertura_uso_terra 2010\n",
       "18 Pastagem                               mapbiomas_amazonia-v5    2011\n",
       "19 Pasto Sujo                             terraclass_amazonia      2012\n",
       "20 Pastagem                               mapbiomas_amazonia-v5    2012\n",
       "21 Mosaico de Ocupações em Área Florestal ibge_cobertura_uso_terra 2012\n",
       "22 Pastagem                               mapbiomas_amazonia-v5    2013\n",
       "23 Pasto Limpo                            terraclass_amazonia      2014\n",
       "24 Pastagem                               mapbiomas_amazonia-v5    2014\n",
       "25 Mosaico de Ocupações em Área Florestal ibge_cobertura_uso_terra 2014\n",
       "26 Pastagem                               mapbiomas_amazonia-v5    2015\n",
       "27 Pastagem                               mapbiomas_amazonia-v5    2016\n",
       "28 Mosaico de Ocupações em Área Florestal ibge_cobertura_uso_terra 2016\n",
       "29 Pastagem                               mapbiomas_amazonia-v5    2017\n",
       "30 Pastagem                               mapbiomas_amazonia-v5    2018\n",
       "31 Mosaico de Ocupações em Área Florestal ibge_cobertura_uso_terra 2018\n",
       "   point_id\n",
       "1  1       \n",
       "2  1       \n",
       "3  1       \n",
       "4  1       \n",
       "5  1       \n",
       "6  1       \n",
       "7  1       \n",
       "8  1       \n",
       "9  1       \n",
       "10 1       \n",
       "11 1       \n",
       "12 1       \n",
       "13 1       \n",
       "14 1       \n",
       "15 1       \n",
       "16 1       \n",
       "17 1       \n",
       "18 1       \n",
       "19 1       \n",
       "20 1       \n",
       "21 1       \n",
       "22 1       \n",
       "23 1       \n",
       "24 1       \n",
       "25 1       \n",
       "26 1       \n",
       "27 1       \n",
       "28 1       \n",
       "29 1       \n",
       "30 1       \n",
       "31 1       "
      ]
     },
     "metadata": {},
     "output_type": "display_data"
    }
   ],
   "source": [
    "trajectory_obj$result"
   ]
  },
  {
   "cell_type": "markdown",
   "id": "99905627",
   "metadata": {},
   "source": [
    "**Saving the results**"
   ]
  },
  {
   "cell_type": "code",
   "execution_count": 19,
   "id": "374a5263",
   "metadata": {},
   "outputs": [],
   "source": [
    "point_tj_df <- trajectory_obj$result\n",
    "write.csv(point_tj_df, paste(output_directory, \"listing1.csv\", sep = \"/\"))"
   ]
  },
  {
   "cell_type": "markdown",
   "id": "cb1aaf23",
   "metadata": {},
   "source": [
    "## Listing 3 - Harmonized trajectories\n",
    "\n",
    "Currently, the WLTS and WLCCS services can be used by users to harmozine trajectories. As presented in the article, in the Python client for WLTS, `wlts.py`, functions are available to facilitate these operations. However, currently, these functions are not available in the `rwlts` package. For more details, check the WLTS Python Client ([wlts.py](https://github.com/brazil-data-cube/wlts.py)).\n"
   ]
  }
 ],
 "metadata": {
  "kernelspec": {
   "display_name": "R",
   "language": "R",
   "name": "ir"
  },
  "language_info": {
   "codemirror_mode": "r",
   "file_extension": ".r",
   "mimetype": "text/x-r-source",
   "name": "R",
   "pygments_lexer": "r",
   "version": "4.1.1"
  }
 },
 "nbformat": 4,
 "nbformat_minor": 5
}
