{
 "cells": [
  {
   "cell_type": "markdown",
   "id": "5d13246d",
   "metadata": {},
   "source": [
    "<img src=\"https://raw.githubusercontent.com/brazil-data-cube/code-gallery/master/img/logo-bdc.png\" align=\"right\" width=\"128\"/>\n",
    "\n",
    "# <span style=\"color:#336699\">Web Land Trajectory Service (WLTS) - Base article operations</span>\n",
    "<hr style=\"border:2px solid #0077b9;\">\n",
    "\n",
    "<br/>\n",
    "\n",
    "<div style=\"text-align: center;font-size: 90%;\">\n",
    "    Fabiana Zioti<sup><a href=\"https://orcid.org/0000-0002-7305-6043\"><i class=\"fab fa-lg fa-orcid\" style=\"color: #a6ce39\"></i></a></sup>, Karine Reis Ferreira<sup><a href=\"https://orcid.org/0000-0003-2656-5504\"><i class=\"fab fa-lg fa-orcid\" style=\"color: #a6ce39\"></i></a></sup>, Gilberto R. Queiroz<sup><a href=\"https://orcid.org/0000-0001-7534-0219\"><i class=\"fab fa-lg fa-orcid\" style=\"color: #a6ce39\"></i></a></sup>, Alana K. Neves, Felipe Menino Carlos<sup><a href=\"https://orcid.org/0000-0002-3334-4315\"><i class=\"fab fa-lg fa-orcid\" style=\"color: #a6ce39\"></i></a></sup>, Felipe Carvalho de Souza<sup><a href=\"https://orcid.org/0000-0002-5826-1700\"><i class=\"fab fa-lg fa-orcid\" style=\"color: #a6ce39\"></i></a></sup>, Lorena Santos<sup><a href=\"https://orcid.org/0000-0003-2612-5859\"><i class=\"fab fa-lg fa-orcid\" style=\"color: #a6ce39\"></i></a></sup>, Rolf Simoes<sup><a href=\"https://orcid.org/0000-0003-0953-4132\"><i class=\"fab fa-lg fa-orcid\" style=\"color: #a6ce39\"></i></a></sup>\n",
    "    <br/><br/>\n",
    "    Earth Observation and Geoinformatics Division, National Institute for Space Research (INPE)\n",
    "    <br/>\n",
    "    Avenida dos Astronautas, 1758, Jardim da Granja, São José dos Campos, SP 12227-010, Brazil\n",
    "    <br/><br/>\n",
    "    Contact: <a href=\"mailto:brazildatacube@inpe.br\">brazildatacube@inpe.br</a>\n",
    "    <br/><br/>\n",
    "</div>\n",
    "\n",
    "<br/>\n",
    "\n",
    "<div style=\"text-align: justify;  margin-left: 15%; margin-right: 15%;font-size: 75%; border-style: solid; border-color: #0077b9; border-width: 1px; padding: 5px;\">\n",
    "    <b>This Jupyter Notebook is a supplement of the following paper:</b>\n",
    "    <div style=\"margin-left: 10px; margin-right: 10px; margin-top:10px\">\n",
    "      <p> Zioti, F.; Ferreira, K.R.; Queiroz, G.R.; Neves, A.K.; Carlos, F.M.; Souza, F.C.; Santos, L.; Simoes, R.E; 2021. A platform for land use and land cover data integration and trajectory analysis. </p>\n",
    "    </div>\n",
    "</div>"
   ]
  },
  {
   "cell_type": "code",
   "execution_count": 6,
   "id": "0868595d",
   "metadata": {},
   "outputs": [],
   "source": [
    "import os"
   ]
  },
  {
   "cell_type": "code",
   "execution_count": 7,
   "id": "21e2a8aa",
   "metadata": {},
   "outputs": [],
   "source": [
    "from wlts import WLTS\n",
    "from lccs import LCCS"
   ]
  },
  {
   "cell_type": "markdown",
   "id": "c91e49d7",
   "metadata": {},
   "source": [
    "## Configurations\n",
    "\n",
    "To run the codes presented in this document, we need to make some settings. The first one is the definition of the addresses of the **W**eb **L**and **T**rajectory **S**ervice (WLTS) and **W**eb **L**and **C**over **S**ervice (WLCCS) services.\n",
    "\n",
    "Thus, in this example, we will use these services provided by the [Brazil Data Cube project](http://brazildatacube.org/). The addresses are defined below:\n"
   ]
  },
  {
   "cell_type": "code",
   "execution_count": 8,
   "id": "e839fdf7",
   "metadata": {},
   "outputs": [],
   "source": [
    "#\n",
    "# Web Land Trajectory Service (WLTS) URL\n",
    "#\n",
    "wlts_service_url = \"https://brazildatacube.dpi.inpe.br/wlts/\"\n",
    "\n",
    "#\n",
    "# Web Land Cover Service (WLCCS) URL\n",
    "#\n",
    "lccs_service_url = \"https://brazildatacube.dpi.inpe.br/lccs/\""
   ]
  },
  {
   "cell_type": "markdown",
   "id": "cc24aabb",
   "metadata": {},
   "source": [
    "Additionally, since we will be using the BDC services, defining an **access token** will also be necessary. This token is mandatory, and once created, gives access to all BDC services and data products.\n",
    "\n",
    "> If you do not have an access token, you can create one through [Brazil Data Cube explorer](https://brazildatacube.dpi.inpe.br/portal/), the BDC data portal. In the portal, **create an account**, and in the **user settings**, **create your token**."
   ]
  },
  {
   "cell_type": "code",
   "execution_count": 10,
   "id": "4faa066b",
   "metadata": {},
   "outputs": [],
   "source": [
    "bdc_access_token = \"YOUR-BDC-SERVICES-TOKEN-HERE\""
   ]
  },
  {
   "cell_type": "markdown",
   "id": "154afdc0",
   "metadata": {},
   "source": [
    "Finally, we will create a directory to store the data to ensure that the generated results are saved for posterior usage. In this case, we will put the data in the `analysis/data/derived_data/python-scripts` directory.\n",
    "\n",
    "The code below creates these directories that we will use:"
   ]
  },
  {
   "cell_type": "code",
   "execution_count": 11,
   "id": "5772318e",
   "metadata": {},
   "outputs": [],
   "source": [
    "#\n",
    "# Defining the output directory\n",
    "#\n",
    "output_directory = \"../../data/derived_data/python-scripts\"\n",
    "\n",
    "#\n",
    "# Creating the output directory\n",
    "#\n",
    "os.makedirs(output_directory, exist_ok=True)"
   ]
  },
  {
   "cell_type": "markdown",
   "id": "2b1d8bed",
   "metadata": {},
   "source": [
    "## Listing 1 - Retrieving LULC trajectories\n",
    "\n",
    "This section uses the Python package `wlts.py` to access the BDC WLTS services and retrieve LULC trajectories from one point location, considering multiple collections. In this case, the following collections will be considered:\n",
    "\n",
    "- `TerraClass Amazon`;\n",
    "- `PRODES Amazon`;\n",
    "- `DETER`; \n",
    "- `IBGE`;\n",
    "- `MapBiomas`.\n"
   ]
  },
  {
   "cell_type": "code",
   "execution_count": 12,
   "id": "bb24557b",
   "metadata": {},
   "outputs": [],
   "source": [
    "service = WLTS(wlts_service_url, access_token=bdc_access_token)"
   ]
  },
  {
   "cell_type": "markdown",
   "id": "ac67f41c",
   "metadata": {},
   "source": [
    "**Defining the temporal period**"
   ]
  },
  {
   "cell_type": "code",
   "execution_count": 13,
   "id": "d7bbed8c",
   "metadata": {},
   "outputs": [],
   "source": [
    "start_date = 2000\n",
    "end_date   = 2018"
   ]
  },
  {
   "cell_type": "markdown",
   "id": "684ac54a",
   "metadata": {},
   "source": [
    "**Defining the collections to be consulted**"
   ]
  },
  {
   "cell_type": "code",
   "execution_count": 14,
   "id": "93d4ab87",
   "metadata": {},
   "outputs": [
    {
     "data": {
      "text/plain": [
       "'prodes_amazonia_legal,deter_amazonia_legal,terraclass_amazonia,mapbiomas_amazonia-v5,ibge_cobertura_uso_terra'"
      ]
     },
     "execution_count": 14,
     "metadata": {},
     "output_type": "execute_result"
    }
   ],
   "source": [
    "collections = \"prodes_amazonia_legal,deter_amazonia_legal,terraclass_amazonia,mapbiomas_amazonia-v5,ibge_cobertura_uso_terra\"\n",
    "collections"
   ]
  },
  {
   "cell_type": "markdown",
   "id": "b37a6b9b",
   "metadata": {},
   "source": [
    "**Retrieving the trajectories**"
   ]
  },
  {
   "cell_type": "code",
   "execution_count": 15,
   "id": "f010373f",
   "metadata": {},
   "outputs": [],
   "source": [
    "point_tj = service.tj(\n",
    "    latitude    = -6.2829, \n",
    "    longitude   = -52.3106, \n",
    "    collections = collections,\n",
    "    start_date  = start_date,\n",
    "    end_date    = end_date\n",
    ")"
   ]
  },
  {
   "cell_type": "markdown",
   "id": "23a76984",
   "metadata": {},
   "source": [
    "**Visualizing the trajectory as a Pandas DataFrame**"
   ]
  },
  {
   "cell_type": "code",
   "execution_count": 16,
   "id": "f3efe139",
   "metadata": {},
   "outputs": [
    {
     "data": {
      "text/html": [
       "<div>\n",
       "<style scoped>\n",
       "    .dataframe tbody tr th:only-of-type {\n",
       "        vertical-align: middle;\n",
       "    }\n",
       "\n",
       "    .dataframe tbody tr th {\n",
       "        vertical-align: top;\n",
       "    }\n",
       "\n",
       "    .dataframe thead th {\n",
       "        text-align: right;\n",
       "    }\n",
       "</style>\n",
       "<table border=\"1\" class=\"dataframe\">\n",
       "  <thead>\n",
       "    <tr style=\"text-align: right;\">\n",
       "      <th></th>\n",
       "      <th>class</th>\n",
       "      <th>collection</th>\n",
       "      <th>date</th>\n",
       "    </tr>\n",
       "  </thead>\n",
       "  <tbody>\n",
       "    <tr>\n",
       "      <th>0</th>\n",
       "      <td>Formação Florestal</td>\n",
       "      <td>mapbiomas_amazonia-v5</td>\n",
       "      <td>2000</td>\n",
       "    </tr>\n",
       "    <tr>\n",
       "      <th>1</th>\n",
       "      <td>Vegetação Florestal</td>\n",
       "      <td>ibge_cobertura_uso_terra</td>\n",
       "      <td>2000</td>\n",
       "    </tr>\n",
       "    <tr>\n",
       "      <th>2</th>\n",
       "      <td>Formação Florestal</td>\n",
       "      <td>mapbiomas_amazonia-v5</td>\n",
       "      <td>2001</td>\n",
       "    </tr>\n",
       "    <tr>\n",
       "      <th>3</th>\n",
       "      <td>Formação Florestal</td>\n",
       "      <td>mapbiomas_amazonia-v5</td>\n",
       "      <td>2002</td>\n",
       "    </tr>\n",
       "    <tr>\n",
       "      <th>4</th>\n",
       "      <td>Formação Florestal</td>\n",
       "      <td>mapbiomas_amazonia-v5</td>\n",
       "      <td>2003</td>\n",
       "    </tr>\n",
       "    <tr>\n",
       "      <th>5</th>\n",
       "      <td>Floresta</td>\n",
       "      <td>terraclass_amazonia</td>\n",
       "      <td>2004</td>\n",
       "    </tr>\n",
       "    <tr>\n",
       "      <th>6</th>\n",
       "      <td>Formação Florestal</td>\n",
       "      <td>mapbiomas_amazonia-v5</td>\n",
       "      <td>2004</td>\n",
       "    </tr>\n",
       "    <tr>\n",
       "      <th>7</th>\n",
       "      <td>Formação Florestal</td>\n",
       "      <td>mapbiomas_amazonia-v5</td>\n",
       "      <td>2005</td>\n",
       "    </tr>\n",
       "    <tr>\n",
       "      <th>8</th>\n",
       "      <td>Formação Florestal</td>\n",
       "      <td>mapbiomas_amazonia-v5</td>\n",
       "      <td>2006</td>\n",
       "    </tr>\n",
       "    <tr>\n",
       "      <th>9</th>\n",
       "      <td>Formação Florestal</td>\n",
       "      <td>mapbiomas_amazonia-v5</td>\n",
       "      <td>2007</td>\n",
       "    </tr>\n",
       "    <tr>\n",
       "      <th>10</th>\n",
       "      <td>Desmatamento</td>\n",
       "      <td>prodes_amazonia_legal</td>\n",
       "      <td>2008</td>\n",
       "    </tr>\n",
       "    <tr>\n",
       "      <th>11</th>\n",
       "      <td>Desflorestamento</td>\n",
       "      <td>terraclass_amazonia</td>\n",
       "      <td>2008</td>\n",
       "    </tr>\n",
       "    <tr>\n",
       "      <th>12</th>\n",
       "      <td>Pastagem</td>\n",
       "      <td>mapbiomas_amazonia-v5</td>\n",
       "      <td>2008</td>\n",
       "    </tr>\n",
       "    <tr>\n",
       "      <th>13</th>\n",
       "      <td>Pastagem</td>\n",
       "      <td>mapbiomas_amazonia-v5</td>\n",
       "      <td>2009</td>\n",
       "    </tr>\n",
       "    <tr>\n",
       "      <th>14</th>\n",
       "      <td>Regeneração com Pasto</td>\n",
       "      <td>terraclass_amazonia</td>\n",
       "      <td>2010</td>\n",
       "    </tr>\n",
       "    <tr>\n",
       "      <th>15</th>\n",
       "      <td>Pastagem</td>\n",
       "      <td>mapbiomas_amazonia-v5</td>\n",
       "      <td>2010</td>\n",
       "    </tr>\n",
       "    <tr>\n",
       "      <th>16</th>\n",
       "      <td>Mosaico de Ocupações em Área Florestal</td>\n",
       "      <td>ibge_cobertura_uso_terra</td>\n",
       "      <td>2010</td>\n",
       "    </tr>\n",
       "    <tr>\n",
       "      <th>17</th>\n",
       "      <td>Pastagem</td>\n",
       "      <td>mapbiomas_amazonia-v5</td>\n",
       "      <td>2011</td>\n",
       "    </tr>\n",
       "    <tr>\n",
       "      <th>18</th>\n",
       "      <td>Pasto Sujo</td>\n",
       "      <td>terraclass_amazonia</td>\n",
       "      <td>2012</td>\n",
       "    </tr>\n",
       "    <tr>\n",
       "      <th>19</th>\n",
       "      <td>Pastagem</td>\n",
       "      <td>mapbiomas_amazonia-v5</td>\n",
       "      <td>2012</td>\n",
       "    </tr>\n",
       "    <tr>\n",
       "      <th>20</th>\n",
       "      <td>Mosaico de Ocupações em Área Florestal</td>\n",
       "      <td>ibge_cobertura_uso_terra</td>\n",
       "      <td>2012</td>\n",
       "    </tr>\n",
       "    <tr>\n",
       "      <th>21</th>\n",
       "      <td>Pastagem</td>\n",
       "      <td>mapbiomas_amazonia-v5</td>\n",
       "      <td>2013</td>\n",
       "    </tr>\n",
       "    <tr>\n",
       "      <th>22</th>\n",
       "      <td>Pasto Limpo</td>\n",
       "      <td>terraclass_amazonia</td>\n",
       "      <td>2014</td>\n",
       "    </tr>\n",
       "    <tr>\n",
       "      <th>23</th>\n",
       "      <td>Pastagem</td>\n",
       "      <td>mapbiomas_amazonia-v5</td>\n",
       "      <td>2014</td>\n",
       "    </tr>\n",
       "    <tr>\n",
       "      <th>24</th>\n",
       "      <td>Mosaico de Ocupações em Área Florestal</td>\n",
       "      <td>ibge_cobertura_uso_terra</td>\n",
       "      <td>2014</td>\n",
       "    </tr>\n",
       "    <tr>\n",
       "      <th>25</th>\n",
       "      <td>Pastagem</td>\n",
       "      <td>mapbiomas_amazonia-v5</td>\n",
       "      <td>2015</td>\n",
       "    </tr>\n",
       "    <tr>\n",
       "      <th>26</th>\n",
       "      <td>Pastagem</td>\n",
       "      <td>mapbiomas_amazonia-v5</td>\n",
       "      <td>2016</td>\n",
       "    </tr>\n",
       "    <tr>\n",
       "      <th>27</th>\n",
       "      <td>Mosaico de Ocupações em Área Florestal</td>\n",
       "      <td>ibge_cobertura_uso_terra</td>\n",
       "      <td>2016</td>\n",
       "    </tr>\n",
       "    <tr>\n",
       "      <th>28</th>\n",
       "      <td>Pastagem</td>\n",
       "      <td>mapbiomas_amazonia-v5</td>\n",
       "      <td>2017</td>\n",
       "    </tr>\n",
       "    <tr>\n",
       "      <th>29</th>\n",
       "      <td>Pastagem</td>\n",
       "      <td>mapbiomas_amazonia-v5</td>\n",
       "      <td>2018</td>\n",
       "    </tr>\n",
       "    <tr>\n",
       "      <th>30</th>\n",
       "      <td>Mosaico de Ocupações em Área Florestal</td>\n",
       "      <td>ibge_cobertura_uso_terra</td>\n",
       "      <td>2018</td>\n",
       "    </tr>\n",
       "  </tbody>\n",
       "</table>\n",
       "</div>"
      ],
      "text/plain": [
       "                                     class                collection  date\n",
       "0                       Formação Florestal     mapbiomas_amazonia-v5  2000\n",
       "1                      Vegetação Florestal  ibge_cobertura_uso_terra  2000\n",
       "2                       Formação Florestal     mapbiomas_amazonia-v5  2001\n",
       "3                       Formação Florestal     mapbiomas_amazonia-v5  2002\n",
       "4                       Formação Florestal     mapbiomas_amazonia-v5  2003\n",
       "5                                 Floresta       terraclass_amazonia  2004\n",
       "6                       Formação Florestal     mapbiomas_amazonia-v5  2004\n",
       "7                       Formação Florestal     mapbiomas_amazonia-v5  2005\n",
       "8                       Formação Florestal     mapbiomas_amazonia-v5  2006\n",
       "9                       Formação Florestal     mapbiomas_amazonia-v5  2007\n",
       "10                            Desmatamento     prodes_amazonia_legal  2008\n",
       "11                        Desflorestamento       terraclass_amazonia  2008\n",
       "12                                Pastagem     mapbiomas_amazonia-v5  2008\n",
       "13                                Pastagem     mapbiomas_amazonia-v5  2009\n",
       "14                   Regeneração com Pasto       terraclass_amazonia  2010\n",
       "15                                Pastagem     mapbiomas_amazonia-v5  2010\n",
       "16  Mosaico de Ocupações em Área Florestal  ibge_cobertura_uso_terra  2010\n",
       "17                                Pastagem     mapbiomas_amazonia-v5  2011\n",
       "18                              Pasto Sujo       terraclass_amazonia  2012\n",
       "19                                Pastagem     mapbiomas_amazonia-v5  2012\n",
       "20  Mosaico de Ocupações em Área Florestal  ibge_cobertura_uso_terra  2012\n",
       "21                                Pastagem     mapbiomas_amazonia-v5  2013\n",
       "22                             Pasto Limpo       terraclass_amazonia  2014\n",
       "23                                Pastagem     mapbiomas_amazonia-v5  2014\n",
       "24  Mosaico de Ocupações em Área Florestal  ibge_cobertura_uso_terra  2014\n",
       "25                                Pastagem     mapbiomas_amazonia-v5  2015\n",
       "26                                Pastagem     mapbiomas_amazonia-v5  2016\n",
       "27  Mosaico de Ocupações em Área Florestal  ibge_cobertura_uso_terra  2016\n",
       "28                                Pastagem     mapbiomas_amazonia-v5  2017\n",
       "29                                Pastagem     mapbiomas_amazonia-v5  2018\n",
       "30  Mosaico de Ocupações em Área Florestal  ibge_cobertura_uso_terra  2018"
      ]
     },
     "execution_count": 16,
     "metadata": {},
     "output_type": "execute_result"
    }
   ],
   "source": [
    "point_tj.df()"
   ]
  },
  {
   "cell_type": "markdown",
   "id": "16562ba4",
   "metadata": {},
   "source": [
    "**Saving the results**"
   ]
  },
  {
   "cell_type": "code",
   "execution_count": 18,
   "id": "c6aee84f",
   "metadata": {},
   "outputs": [],
   "source": [
    "point_tj_df = point_tj.df()\n",
    "point_tj_df.to_csv(os.path.join(output_directory, \"listing1.csv\"))"
   ]
  },
  {
   "cell_type": "markdown",
   "id": "e97def26",
   "metadata": {},
   "source": [
    "## Listing 3 - Harmonized trajectories\n",
    "\n",
    "This section makes joint use of WLTS and WLCCS for retrieving LULC paths from various projects with classes harmonized between both collections. For this operation, we will use the `wlts.py` and `lccs.py` Python packages."
   ]
  },
  {
   "cell_type": "markdown",
   "id": "265f18bd",
   "metadata": {},
   "source": [
    "**Defining the services**"
   ]
  },
  {
   "cell_type": "code",
   "execution_count": 19,
   "id": "51f19a7d",
   "metadata": {},
   "outputs": [],
   "source": [
    "#\n",
    "# Web Land Trajectory Service (WLTS)\n",
    "#\n",
    "service_wlts = WLTS(url=wlts_service_url, access_token=bdc_access_token)\n",
    "\n",
    "#\n",
    "# Web Land Classification System Service (WLCSS)\n",
    "#\n",
    "service_lccs = LCCS(url=lccs_service_url, access_token=bdc_access_token)"
   ]
  },
  {
   "cell_type": "markdown",
   "id": "e74b5d61",
   "metadata": {},
   "source": [
    "**Finding the Collections classification system**"
   ]
  },
  {
   "cell_type": "code",
   "execution_count": 24,
   "id": "51705914",
   "metadata": {},
   "outputs": [
    {
     "data": {
      "text/html": [
       "<div>\n",
       "    <b>Collection Name:</b> terraclass_amazonia-v2\n",
       "</div>\n",
       "<div>\n",
       "    <b>Collection Type:</b> Image\n",
       "</div>\n",
       "<div>\n",
       "    <b>Description:</b> O Projeto TerraClass foi estruturado em 2010 com o objetivo de atender uma demanda do Governo Federal relacionada à qualificação dos desmatamentos observados na região da Amazônia Legal e endereçada a gestores e colaboradores da Empresa Brasileira de Pesquisa Agropecuária (Embrapa) e do Instituto Nacional de Pesquisas Espaciais (Inpe). Os produtos gerados pelo projeto TerraClass oferecem subsídios para a definição de ações governamentais referentes ao desenvolvimento da produção agrícola nacional com bases sustentáveis, à preservação da biodiversidade nacional e à manutenção da qualidade dos serviços ambientais. Em 2015, durante a expansão das ações do projeto para o bioma Cerrado, ano base 2013, foi publicada a Portaria MMA nº 365 de 27 de novembro de 2015, do Ministério do Meio Ambiente, criando o Programa de Monitoramento Ambiental dos Biomas Brasileiros (PMABB), que tem por objetivo expandir as ações de mapeamento e monitoramento para os demais biomas brasileiros.\n",
       "</div>\n",
       "<div>\n",
       "    <b>Start date:</b> 2004\n",
       "    <b>End date:</b> 2014\n",
       "</div>\n",
       "<b>Resolution Unit:</b>\n",
       "<div>\n",
       "    <b>Unit:</b> YEAR\n",
       "    <b>Value:</b> 1.0\n",
       "</div>\n",
       "</br>\n",
       "<b>Classification System:</b>\n",
       "<div>\n",
       "    <b>Id:</b> 41\n",
       "    <b>Name:</b> TerraClass-AMZ\n",
       "    <b>Version:</b> 2\n",
       "</div>\n",
       "</br>\n",
       "<div>\n",
       "    <b>Extent</b>\n",
       "</div>\n",
       "<div>\n",
       "    <table>\n",
       "        <tr>\n",
       "            <th>max_x</th>\n",
       "            <th>min_x</th>\n",
       "            <th>max_y</th>\n",
       "            <th>min_y</th>\n",
       "        </tr>\n",
       "        <tr>\n",
       "            <td></td>\n",
       "            <td></td>\n",
       "            <td></td>\n",
       "            <td></td>\n",
       "        </tr>\n",
       "    </table>\n",
       "</div>"
      ],
      "text/plain": [
       "Collection(service=wlts(url=\"https://brazildatacube.dpi.inpe.br/wlts\"), metadata={'classification_system': {'classification_system_id': '41', 'classification_system_name': 'TerraClass-AMZ', 'classification_system_version': '2', 'type': 'Feature'}, 'collection_type': 'Image', 'description': 'O Projeto TerraClass foi estruturado em 2010 com o objetivo de atender uma demanda do Governo Federal relacionada à qualificação dos desmatamentos observados na região da Amazônia Legal e endereçada a gestores e colaboradores da Empresa Brasileira de Pesquisa Agropecuária (Embrapa) e do Instituto Nacional de Pesquisas Espaciais (Inpe). Os produtos gerados pelo projeto TerraClass oferecem subsídios para a definição de ações governamentais referentes ao desenvolvimento da produção agrícola nacional com bases sustentáveis, à preservação da biodiversidade nacional e à manutenção da qualidade dos serviços ambientais. Em 2015, durante a expansão das ações do projeto para o bioma Cerrado, ano base 2013, foi publicada a Portaria MMA nº 365 de 27 de novembro de 2015, do Ministério do Meio Ambiente, criando o Programa de Monitoramento Ambiental dos Biomas Brasileiros (PMABB), que tem por objetivo expandir as ações de mapeamento e monitoramento para os demais biomas brasileiros.', 'detail': 'Para mais informacoes acesse: https://www.terraclass.gov.br/', 'name': 'terraclass_amazonia-v2', 'period': {'end_date': '2014', 'start_date': '2004'}, 'resolution_unit': {'unit': 'YEAR', 'value': 1.0}, 'spatial_extent': {'max_x': '-43.9972299689998', 'max_y': '5.27183883999992', 'min_x': '-73.9904499689998', 'min_y': '-18.0415811600001'}}"
      ]
     },
     "execution_count": 24,
     "metadata": {},
     "output_type": "execute_result"
    }
   ],
   "source": [
    "service_wlts['terraclass_amazonia-v2']"
   ]
  },
  {
   "cell_type": "code",
   "execution_count": 25,
   "id": "93c0acbd",
   "metadata": {},
   "outputs": [
    {
     "data": {
      "text/html": [
       "<div>\n",
       "    <b>Collection Name:</b> mapbiomas_amazonia-v5\n",
       "</div>\n",
       "<div>\n",
       "    <b>Collection Type:</b> Image\n",
       "</div>\n",
       "<div>\n",
       "    <b>Description:</b> Esta é a Coleção 5.0 do MapBiomas que inclui dados anuais de cobertura e uso do solo da Amazônia para o período de 2000 a 2019.\n",
       "</div>\n",
       "<div>\n",
       "    <b>Start date:</b> 1985\n",
       "    <b>End date:</b> 2019\n",
       "</div>\n",
       "<b>Resolution Unit:</b>\n",
       "<div>\n",
       "    <b>Unit:</b> YEAR\n",
       "    <b>Value:</b> 1.0\n",
       "</div>\n",
       "</br>\n",
       "<b>Classification System:</b>\n",
       "<div>\n",
       "    <b>Id:</b> 32\n",
       "    <b>Name:</b> MapBiomas\n",
       "    <b>Version:</b> 5\n",
       "</div>\n",
       "</br>\n",
       "<div>\n",
       "    <b>Extent</b>\n",
       "</div>\n",
       "<div>\n",
       "    <table>\n",
       "        <tr>\n",
       "            <th>max_x</th>\n",
       "            <th>min_x</th>\n",
       "            <th>max_y</th>\n",
       "            <th>min_y</th>\n",
       "        </tr>\n",
       "        <tr>\n",
       "            <td></td>\n",
       "            <td></td>\n",
       "            <td></td>\n",
       "            <td></td>\n",
       "        </tr>\n",
       "    </table>\n",
       "</div>"
      ],
      "text/plain": [
       "Collection(service=wlts(url=\"https://brazildatacube.dpi.inpe.br/wlts\"), metadata={'classification_system': {'classification_system_id': '32', 'classification_system_name': 'MapBiomas', 'classification_system_version': '5', 'type': 'Feature'}, 'collection_type': 'Image', 'description': 'Esta é a Coleção 5.0 do MapBiomas que inclui dados anuais de cobertura e uso do solo da Amazônia para o período de 2000 a 2019.', 'detail': 'Projeto MapBiomas – Coleção 5 da Série Anual de Mapas de Cobertura e Uso de Solo do Brasil, acessado em 17 Novembro de 2020 através do link: https://mapbiomas.org/', 'name': 'mapbiomas_amazonia-v5', 'period': {'end_date': '2019', 'start_date': '1985'}, 'resolution_unit': {'unit': 'YEAR', 'value': 1.0}, 'spatial_extent': {'max_x': '-43.3991385117971', 'max_y': '-16.6620417213773', 'min_x': '-73.9832705064587', 'min_y': '5.26969711970194'}}"
      ]
     },
     "execution_count": 25,
     "metadata": {},
     "output_type": "execute_result"
    }
   ],
   "source": [
    "service_wlts['mapbiomas_amazonia-v5']"
   ]
  },
  {
   "cell_type": "markdown",
   "id": "e066a527",
   "metadata": {},
   "source": [
    "**Showing the available classifications system mappings**"
   ]
  },
  {
   "cell_type": "code",
   "execution_count": 20,
   "id": "74f3d180",
   "metadata": {},
   "outputs": [
    {
     "data": {
      "text/plain": [
       "['Simplified-legend-TM-1']"
      ]
     },
     "execution_count": 20,
     "metadata": {},
     "output_type": "execute_result"
    }
   ],
   "source": [
    "service_lccs.available_mappings(\"TerraClass-AMZ-2\")"
   ]
  },
  {
   "cell_type": "code",
   "execution_count": 21,
   "id": "e3e12d5e",
   "metadata": {},
   "outputs": [
    {
     "data": {
      "text/plain": [
       "['Simplified-legend-TM-1']"
      ]
     },
     "execution_count": 21,
     "metadata": {},
     "output_type": "execute_result"
    }
   ],
   "source": [
    "service_lccs.available_mappings(\"MapBiomas-5\")"
   ]
  },
  {
   "cell_type": "markdown",
   "id": "b83f30a2",
   "metadata": {},
   "source": [
    "**Retrieving a trajectory harmonized with the `Simplified-legend-TM`**"
   ]
  },
  {
   "cell_type": "code",
   "execution_count": 23,
   "id": "d2c2dbb7",
   "metadata": {},
   "outputs": [],
   "source": [
    "tj = service_wlts.tj(\n",
    "    latitude      = -6.282295, \n",
    "    longitude     = -52.53655,\n",
    "    collections   = 'terraclass_amazonia-v2,mapbiomas_amazonia-v5',\n",
    "    target_system = 'Simplified-legend-TM-1',\n",
    "    start_date    = 2004,\n",
    "    end_date      = 2014\n",
    ")"
   ]
  },
  {
   "cell_type": "code",
   "execution_count": 24,
   "id": "a8da2675",
   "metadata": {},
   "outputs": [
    {
     "data": {
      "text/html": [
       "<div>\n",
       "<style scoped>\n",
       "    .dataframe tbody tr th:only-of-type {\n",
       "        vertical-align: middle;\n",
       "    }\n",
       "\n",
       "    .dataframe tbody tr th {\n",
       "        vertical-align: top;\n",
       "    }\n",
       "\n",
       "    .dataframe thead th {\n",
       "        text-align: right;\n",
       "    }\n",
       "</style>\n",
       "<table border=\"1\" class=\"dataframe\">\n",
       "  <thead>\n",
       "    <tr style=\"text-align: right;\">\n",
       "      <th></th>\n",
       "      <th>class</th>\n",
       "      <th>collection</th>\n",
       "      <th>date</th>\n",
       "    </tr>\n",
       "  </thead>\n",
       "  <tbody>\n",
       "    <tr>\n",
       "      <th>0</th>\n",
       "      <td>Forest</td>\n",
       "      <td>terraclass_amazonia-v2</td>\n",
       "      <td>2004</td>\n",
       "    </tr>\n",
       "    <tr>\n",
       "      <th>1</th>\n",
       "      <td>Forest</td>\n",
       "      <td>mapbiomas_amazonia-v5</td>\n",
       "      <td>2004</td>\n",
       "    </tr>\n",
       "    <tr>\n",
       "      <th>2</th>\n",
       "      <td>Forest</td>\n",
       "      <td>mapbiomas_amazonia-v5</td>\n",
       "      <td>2005</td>\n",
       "    </tr>\n",
       "    <tr>\n",
       "      <th>3</th>\n",
       "      <td>Forest</td>\n",
       "      <td>mapbiomas_amazonia-v5</td>\n",
       "      <td>2006</td>\n",
       "    </tr>\n",
       "    <tr>\n",
       "      <th>4</th>\n",
       "      <td>Forest</td>\n",
       "      <td>mapbiomas_amazonia-v5</td>\n",
       "      <td>2007</td>\n",
       "    </tr>\n",
       "    <tr>\n",
       "      <th>5</th>\n",
       "      <td>Deforestation of the year</td>\n",
       "      <td>terraclass_amazonia-v2</td>\n",
       "      <td>2008</td>\n",
       "    </tr>\n",
       "    <tr>\n",
       "      <th>6</th>\n",
       "      <td>Pasture</td>\n",
       "      <td>mapbiomas_amazonia-v5</td>\n",
       "      <td>2008</td>\n",
       "    </tr>\n",
       "    <tr>\n",
       "      <th>7</th>\n",
       "      <td>Pasture</td>\n",
       "      <td>mapbiomas_amazonia-v5</td>\n",
       "      <td>2009</td>\n",
       "    </tr>\n",
       "    <tr>\n",
       "      <th>8</th>\n",
       "      <td>Pasture</td>\n",
       "      <td>terraclass_amazonia-v2</td>\n",
       "      <td>2010</td>\n",
       "    </tr>\n",
       "    <tr>\n",
       "      <th>9</th>\n",
       "      <td>Pasture</td>\n",
       "      <td>mapbiomas_amazonia-v5</td>\n",
       "      <td>2010</td>\n",
       "    </tr>\n",
       "    <tr>\n",
       "      <th>10</th>\n",
       "      <td>Pasture</td>\n",
       "      <td>mapbiomas_amazonia-v5</td>\n",
       "      <td>2011</td>\n",
       "    </tr>\n",
       "    <tr>\n",
       "      <th>11</th>\n",
       "      <td>Pasture</td>\n",
       "      <td>terraclass_amazonia-v2</td>\n",
       "      <td>2012</td>\n",
       "    </tr>\n",
       "    <tr>\n",
       "      <th>12</th>\n",
       "      <td>Pasture</td>\n",
       "      <td>mapbiomas_amazonia-v5</td>\n",
       "      <td>2012</td>\n",
       "    </tr>\n",
       "    <tr>\n",
       "      <th>13</th>\n",
       "      <td>Pasture</td>\n",
       "      <td>mapbiomas_amazonia-v5</td>\n",
       "      <td>2013</td>\n",
       "    </tr>\n",
       "    <tr>\n",
       "      <th>14</th>\n",
       "      <td>Pasture</td>\n",
       "      <td>terraclass_amazonia-v2</td>\n",
       "      <td>2014</td>\n",
       "    </tr>\n",
       "    <tr>\n",
       "      <th>15</th>\n",
       "      <td>Pasture</td>\n",
       "      <td>mapbiomas_amazonia-v5</td>\n",
       "      <td>2014</td>\n",
       "    </tr>\n",
       "  </tbody>\n",
       "</table>\n",
       "</div>"
      ],
      "text/plain": [
       "                        class              collection  date\n",
       "0                      Forest  terraclass_amazonia-v2  2004\n",
       "1                      Forest   mapbiomas_amazonia-v5  2004\n",
       "2                      Forest   mapbiomas_amazonia-v5  2005\n",
       "3                      Forest   mapbiomas_amazonia-v5  2006\n",
       "4                      Forest   mapbiomas_amazonia-v5  2007\n",
       "5   Deforestation of the year  terraclass_amazonia-v2  2008\n",
       "6                     Pasture   mapbiomas_amazonia-v5  2008\n",
       "7                     Pasture   mapbiomas_amazonia-v5  2009\n",
       "8                     Pasture  terraclass_amazonia-v2  2010\n",
       "9                     Pasture   mapbiomas_amazonia-v5  2010\n",
       "10                    Pasture   mapbiomas_amazonia-v5  2011\n",
       "11                    Pasture  terraclass_amazonia-v2  2012\n",
       "12                    Pasture   mapbiomas_amazonia-v5  2012\n",
       "13                    Pasture   mapbiomas_amazonia-v5  2013\n",
       "14                    Pasture  terraclass_amazonia-v2  2014\n",
       "15                    Pasture   mapbiomas_amazonia-v5  2014"
      ]
     },
     "execution_count": 24,
     "metadata": {},
     "output_type": "execute_result"
    }
   ],
   "source": [
    "tj.df()"
   ]
  },
  {
   "cell_type": "markdown",
   "id": "02ba7c04",
   "metadata": {},
   "source": [
    "**Saving the results**"
   ]
  },
  {
   "cell_type": "code",
   "execution_count": 25,
   "id": "445ec30b",
   "metadata": {},
   "outputs": [],
   "source": [
    "tj_df = tj.df()\n",
    "tj_df.to_csv(os.path.join(output_directory, \"listing3.csv\"))"
   ]
  }
 ],
 "metadata": {
  "kernelspec": {
   "display_name": "Python 3 (ipykernel)",
   "language": "python",
   "name": "python3"
  },
  "language_info": {
   "codemirror_mode": {
    "name": "ipython",
    "version": 3
   },
   "file_extension": ".py",
   "mimetype": "text/x-python",
   "name": "python",
   "nbconvert_exporter": "python",
   "pygments_lexer": "ipython3",
   "version": "3.9.6"
  }
 },
 "nbformat": 4,
 "nbformat_minor": 5
}
