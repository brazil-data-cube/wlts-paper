{
 "cells": [
  {
   "cell_type": "markdown",
   "id": "communist-semester",
   "metadata": {},
   "source": [
    "<img src=\"https://raw.githubusercontent.com/brazil-data-cube/code-gallery/master/img/logo-bdc.png\" align=\"right\" width=\"128\"/>\n",
    "\n",
    "# <span style=\"color:#336699\">Web Land Trajectory Service (WLTS) - Base article operations</span>\n",
    "<hr style=\"border:2px solid #0077b9;\">\n",
    "\n",
    "<br/>\n",
    "\n",
    "<div style=\"text-align: center;font-size: 90%;\">\n",
    "    Fabiana Zioti<sup><a href=\"https://orcid.org/0000-0002-7305-6043\"><i class=\"fab fa-lg fa-orcid\" style=\"color: #a6ce39\"></i></a></sup>, Karine Reis Ferreira<sup><a href=\"https://orcid.org/0000-0003-2656-5504\"><i class=\"fab fa-lg fa-orcid\" style=\"color: #a6ce39\"></i></a></sup>, Gilberto R. Queiroz<sup><a href=\"https://orcid.org/0000-0001-7534-0219\"><i class=\"fab fa-lg fa-orcid\" style=\"color: #a6ce39\"></i></a></sup>, Alana K. Neves, Felipe Menino Carlos<sup><a href=\"https://orcid.org/0000-0002-3334-4315\"><i class=\"fab fa-lg fa-orcid\" style=\"color: #a6ce39\"></i></a></sup>, Felipe Carvalho de Souza<sup><a href=\"https://orcid.org/0000-0002-5826-1700\"><i class=\"fab fa-lg fa-orcid\" style=\"color: #a6ce39\"></i></a></sup>, Lorena Santos<sup><a href=\"https://orcid.org/0000-0003-2612-5859\"><i class=\"fab fa-lg fa-orcid\" style=\"color: #a6ce39\"></i></a></sup>, Rolf Simoes<sup><a href=\"https://orcid.org/0000-0003-0953-4132\"><i class=\"fab fa-lg fa-orcid\" style=\"color: #a6ce39\"></i></a></sup>\n",
    "    <br/><br/>\n",
    "    Earth Observation and Geoinformatics Division, National Institute for Space Research (INPE)\n",
    "    <br/>\n",
    "    Avenida dos Astronautas, 1758, Jardim da Granja, São José dos Campos, SP 12227-010, Brazil\n",
    "    <br/><br/>\n",
    "    Contact: <a href=\"mailto:brazildatacube@inpe.br\">brazildatacube@inpe.br</a>\n",
    "    <br/><br/>\n",
    "</div>\n",
    "\n",
    "<br/>\n",
    "\n",
    "<div style=\"text-align: justify;  margin-left: 15%; margin-right: 15%;font-size: 75%; border-style: solid; border-color: #0077b9; border-width: 1px; padding: 5px;\">\n",
    "    <b>This Jupyter Notebook is a supplement of the following paper:</b>\n",
    "    <div style=\"margin-left: 10px; margin-right: 10px; margin-top:10px\">\n",
    "      <p> Zioti, F.; Ferreira, K.R.; Queiroz, G.R.; Neves, A.K.; Carlos, F.M.; Souza, F.C.; Santos, L.; Simoes, R.E; 2021. A platform for land use and land cover data integration and trajectory analysis. </p>\n",
    "    </div>\n",
    "</div>"
   ]
  },
  {
   "cell_type": "code",
   "execution_count": null,
   "id": "dedicated-volleyball",
   "metadata": {},
   "outputs": [],
   "source": [
    "import os"
   ]
  },
  {
   "cell_type": "code",
   "execution_count": null,
   "id": "changed-trouble",
   "metadata": {},
   "outputs": [],
   "source": [
    "from wlts import WLTS\n",
    "from lccs import LCCS"
   ]
  },
  {
   "cell_type": "markdown",
   "id": "turned-outreach",
   "metadata": {},
   "source": [
    "## Configurations\n",
    "\n",
    "To run the codes presented in this document, we need to make some settings. The first one is the definition of the addresses of the **W**eb **L**and **T**rajectory **S**ervice (WLTS) and **W**eb **L**and **C**lassification **S**ystem **S**ervice (WLCSS) services.\n",
    "\n",
    "Thus, in this example, we will use these services provided by the [Brazil Data Cube project](http://brazildatacube.org/). The addresses are defined below:\n"
   ]
  },
  {
   "cell_type": "code",
   "execution_count": null,
   "id": "arctic-xerox",
   "metadata": {},
   "outputs": [],
   "source": [
    "#\n",
    "# Web Land Trajectory Service (WLTS) URL\n",
    "#\n",
    "wlts_service_url = \"https://brazildatacube.dpi.inpe.br/wlts/\"\n",
    "\n",
    "#\n",
    "# Web Land Classification System Service (WLCSS) URL\n",
    "#\n",
    "lccs_service_url = \"https://brazildatacube.dpi.inpe.br/lccs/\""
   ]
  },
  {
   "cell_type": "markdown",
   "id": "macro-orange",
   "metadata": {},
   "source": [
    "Additionally, since we will be using the BDC services, defining an **access token** will also be necessary. This token is mandatory, and once created, gives access to all BDC services and data products.\n",
    "\n",
    "> If you do not have an access token, you can create one through [Brazil Data Cube explorer](https://brazildatacube.dpi.inpe.br/portal/), the BDC data portal. In the portal, **create an account**, and in the **user settings**, **create your token**."
   ]
  },
  {
   "cell_type": "code",
   "execution_count": null,
   "id": "fabulous-insertion",
   "metadata": {},
   "outputs": [],
   "source": [
    "bdc_access_token = \"YOUR-BDC-SERVICES-TOKEN-HERE\""
   ]
  },
  {
   "cell_type": "markdown",
   "id": "beautiful-circulation",
   "metadata": {},
   "source": [
    "Finally, we will create a directory to store the data to ensure that the generated results are saved for posterior usage. In this case, we will put the data in the `analysis/data/derived_data/python-scripts` directory.\n",
    "\n",
    "The code below creates these directories that we will use:"
   ]
  },
  {
   "cell_type": "code",
   "execution_count": null,
   "id": "clean-robert",
   "metadata": {},
   "outputs": [],
   "source": [
    "#\n",
    "# Defining the output directory\n",
    "#\n",
    "output_directory = \"../../data/derived_data/python-scripts\"\n",
    "\n",
    "#\n",
    "# Creating the output directory\n",
    "#\n",
    "os.makedirs(output_directory, exist_ok=True)"
   ]
  },
  {
   "cell_type": "markdown",
   "id": "hispanic-wrapping",
   "metadata": {},
   "source": [
    "## Listing 1 - Retrieving LULC trajectories\n",
    "\n",
    "This section uses the Python package `wlts.py` to access the BDC WLTS services and retrieve LULC trajectories from one point location, considering multiple collections. In this case, the following collections will be considered:\n",
    "\n",
    "- `TerraClass Amazon`;\n",
    "- `PRODES Amazon`;\n",
    "- `DETER`; \n",
    "- `IBGE`;\n",
    "- `MapBiomas`.\n"
   ]
  },
  {
   "cell_type": "code",
   "execution_count": null,
   "id": "pending-landscape",
   "metadata": {},
   "outputs": [],
   "source": [
    "service = WLTS(wlts_service_url, access_token=bdc_access_token)"
   ]
  },
  {
   "cell_type": "markdown",
   "id": "individual-butter",
   "metadata": {},
   "source": [
    "**Defining the temporal period**"
   ]
  },
  {
   "cell_type": "code",
   "execution_count": null,
   "id": "differential-determination",
   "metadata": {},
   "outputs": [],
   "source": [
    "start_date = 2000\n",
    "end_date   = 2018"
   ]
  },
  {
   "cell_type": "markdown",
   "id": "practical-vessel",
   "metadata": {},
   "source": [
    "**Defining the collections to be consulted**"
   ]
  },
  {
   "cell_type": "code",
   "execution_count": null,
   "id": "welsh-fitting",
   "metadata": {},
   "outputs": [],
   "source": [
    "collections = \"prodes_amazonia_legal,deter_amazonia_legal,terraclass_amazonia,mapbiomas_amazonia-v5,ibge_cobertura_uso_terra\"\n",
    "collections"
   ]
  },
  {
   "cell_type": "markdown",
   "id": "civilian-terrorism",
   "metadata": {},
   "source": [
    "**Retrieving the trajectories**"
   ]
  },
  {
   "cell_type": "code",
   "execution_count": null,
   "id": "harmful-publication",
   "metadata": {},
   "outputs": [],
   "source": [
    "point_tj = service.tj(\n",
    "    latitude    = -6.2829, \n",
    "    longitude   = -52.3106, \n",
    "    collections = collections,\n",
    "    start_date  = start_date,\n",
    "    end_date    = end_date\n",
    ")"
   ]
  },
  {
   "cell_type": "markdown",
   "id": "traditional-honor",
   "metadata": {},
   "source": [
    "**Visualizing the trajectory as a Pandas DataFrame**"
   ]
  },
  {
   "cell_type": "code",
   "execution_count": null,
   "id": "recorded-heart",
   "metadata": {},
   "outputs": [],
   "source": [
    "point_tj.df()"
   ]
  },
  {
   "cell_type": "markdown",
   "id": "meaningful-emphasis",
   "metadata": {},
   "source": [
    "**Saving the results**"
   ]
  },
  {
   "cell_type": "code",
   "execution_count": null,
   "id": "fabulous-target",
   "metadata": {},
   "outputs": [],
   "source": [
    "point_tj_df = point_tj.df()\n",
    "point_tj_df.to_csv(os.path.join(output_directory, \"listing1.csv\"))"
   ]
  },
  {
   "cell_type": "markdown",
   "id": "central-huntington",
   "metadata": {},
   "source": [
    "## Listing 3 - Harmonized trajectories\n",
    "\n",
    "This section makes joint use of WLTS and WLCSS for retrieving LULC paths from various projects with classes harmonized between both collections. For this operation, we will use the `wlts.py` and `lccs.py` Python packages."
   ]
  },
  {
   "cell_type": "markdown",
   "id": "colonial-buddy",
   "metadata": {},
   "source": [
    "**Defining the services**"
   ]
  },
  {
   "cell_type": "code",
   "execution_count": null,
   "id": "developing-sending",
   "metadata": {},
   "outputs": [],
   "source": [
    "#\n",
    "# Web Land Trajectory Service (WLTS)\n",
    "#\n",
    "service_wlts = WLTS(url=wlts_service_url, access_token=bdc_access_token)\n",
    "\n",
    "#\n",
    "# Web Land Classification System Service (WLCSS)\n",
    "#\n",
    "service_lccs = LCCS(url=lccs_service_url, access_token=bdc_access_token)"
   ]
  },
  {
   "cell_type": "markdown",
   "id": "confirmed-rough",
   "metadata": {},
   "source": [
    "**Finding the Collections classification system**"
   ]
  },
  {
   "cell_type": "markdown",
   "id": "impaired-shock",
   "metadata": {},
   "source": [
    "To retrieve the harmonized trajectory, it is necessary to have the classification systems of the collections and the destination classification system to which the trajectory will be mapped.\n",
    "The classification system for collections can be found in the metadata provided by the WLTS:"
   ]
  },
  {
   "cell_type": "code",
   "execution_count": null,
   "id": "chicken-geometry",
   "metadata": {},
   "outputs": [],
   "source": [
    "service_wlts['terraclass_amazonia-v2']"
   ]
  },
  {
   "cell_type": "code",
   "execution_count": null,
   "id": "greatest-villa",
   "metadata": {},
   "outputs": [],
   "source": [
    "service_wlts['mapbiomas_amazonia-v5']"
   ]
  },
  {
   "cell_type": "markdown",
   "id": "worldwide-lewis",
   "metadata": {},
   "source": [
    "This metadata returns the name, version identifier of the collections classification system. This information is provided directly from the WLCSS."
   ]
  },
  {
   "cell_type": "markdown",
   "id": "valid-imperial",
   "metadata": {},
   "source": [
    "**Showing the available classifications system mappings**"
   ]
  },
  {
   "cell_type": "markdown",
   "id": "collected-treatment",
   "metadata": {},
   "source": [
    "With the information from the classification systems, it is possible to ascertain the mapping system available for the data collections that will be used in the trajectory search."
   ]
  },
  {
   "cell_type": "code",
   "execution_count": null,
   "id": "altered-portland",
   "metadata": {},
   "outputs": [],
   "source": [
    "service_lccs.available_mappings(\"TerraClass-AMZ-2\")"
   ]
  },
  {
   "cell_type": "code",
   "execution_count": null,
   "id": "delayed-calcium",
   "metadata": {},
   "outputs": [],
   "source": [
    "service_lccs.available_mappings(\"MapBiomas-5\")"
   ]
  },
  {
   "cell_type": "markdown",
   "id": "sound-sixth",
   "metadata": {},
   "source": [
    "> Classification system Simplified-legend-TM-1 refers to the system shown in Table 3. Along with its harmonization of classes from the TerraClass and MapBiomas projects."
   ]
  },
  {
   "cell_type": "markdown",
   "id": "charming-european",
   "metadata": {},
   "source": [
    "**Retrieving a trajectory harmonized with the `Simplified-legend-TM`**"
   ]
  },
  {
   "cell_type": "markdown",
   "id": "legislative-fleece",
   "metadata": {},
   "source": [
    "To return the LULC trajectory in a single classification system, it is necessary to inform the desired destination system. This is done through the **target_system** parameter of the trajectory function."
   ]
  },
  {
   "cell_type": "code",
   "execution_count": null,
   "id": "boring-japanese",
   "metadata": {},
   "outputs": [],
   "source": [
    "tj = service_wlts.tj(\n",
    "    latitude      = -6.282295, \n",
    "    longitude     = -52.53655,\n",
    "    collections   = 'terraclass_amazonia-v2,mapbiomas_amazonia-v5',\n",
    "    target_system = 'Simplified-legend-TM-1',\n",
    "    start_date    = 2004,\n",
    "    end_date      = 2014\n",
    ")"
   ]
  },
  {
   "cell_type": "code",
   "execution_count": null,
   "id": "bacterial-convention",
   "metadata": {},
   "outputs": [],
   "source": [
    "tj.df()"
   ]
  },
  {
   "cell_type": "markdown",
   "id": "annual-internet",
   "metadata": {},
   "source": [
    "**Saving the results**"
   ]
  },
  {
   "cell_type": "code",
   "execution_count": null,
   "id": "developmental-baseline",
   "metadata": {},
   "outputs": [],
   "source": [
    "tj_df = tj.df()\n",
    "tj_df.to_csv(os.path.join(output_directory, \"listing3.csv\"))"
   ]
  }
 ],
 "metadata": {
  "kernelspec": {
   "display_name": "Python 3",
   "language": "python",
   "name": "python3"
  },
  "language_info": {
   "codemirror_mode": {
    "name": "ipython",
    "version": 3
   },
   "file_extension": ".py",
   "mimetype": "text/x-python",
   "name": "python",
   "nbconvert_exporter": "python",
   "pygments_lexer": "ipython3",
   "version": "3.7.10"
  }
 },
 "nbformat": 4,
 "nbformat_minor": 5
}
