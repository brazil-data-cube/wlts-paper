{
 "cells": [
  {
   "cell_type": "markdown",
   "id": "romance-hepatitis",
   "metadata": {},
   "source": [
    "<img src=\"https://raw.githubusercontent.com/brazil-data-cube/code-gallery/master/img/logo-bdc.png\" align=\"right\" width=\"128\"/>\n",
    "\n",
    "# <span style=\"color:#336699\">Web Land Trajectory Service (WLTS) - Harmonized trajectories</span>\n",
    "<hr style=\"border:2px solid #0077b9;\">\n",
    "\n",
    "<br/>\n",
    "\n",
    "<div style=\"text-align: center;font-size: 90%;\">\n",
    "    Fabiana Zioti<sup><a href=\"https://orcid.org/0000-0002-7305-6043\"><i class=\"fab fa-lg fa-orcid\" style=\"color: #a6ce39\"></i></a></sup>, Karine Reis Ferreira<sup><a href=\"https://orcid.org/0000-0003-2656-5504\"><i class=\"fab fa-lg fa-orcid\" style=\"color: #a6ce39\"></i></a></sup>, Gilberto R. Queiroz<sup><a href=\"https://orcid.org/0000-0001-7534-0219\"><i class=\"fab fa-lg fa-orcid\" style=\"color: #a6ce39\"></i></a></sup>, Alana K. Neves, Felipe Menino Carlos<sup><a href=\"https://orcid.org/0000-0002-3334-4315\"><i class=\"fab fa-lg fa-orcid\" style=\"color: #a6ce39\"></i></a></sup>, Felipe Carvalho de Souza<sup><a href=\"https://orcid.org/0000-0002-5826-1700\"><i class=\"fab fa-lg fa-orcid\" style=\"color: #a6ce39\"></i></a></sup>, Lorena Santos<sup><a href=\"https://orcid.org/0000-0003-2612-5859\"><i class=\"fab fa-lg fa-orcid\" style=\"color: #a6ce39\"></i></a></sup>, Rolf Simoes<sup><a href=\"https://orcid.org/0000-0003-0953-4132\"><i class=\"fab fa-lg fa-orcid\" style=\"color: #a6ce39\"></i></a></sup>\n",
    "    <br/><br/>\n",
    "    Earth Observation and Geoinformatics Division, National Institute for Space Research (INPE)\n",
    "    <br/>\n",
    "    Avenida dos Astronautas, 1758, Jardim da Granja, São José dos Campos, SP 12227-010, Brazil\n",
    "    <br/><br/>\n",
    "    Contact: <a href=\"mailto:brazildatacube@inpe.br\">brazildatacube@inpe.br</a>\n",
    "    <br/><br/>\n",
    "</div>\n",
    "\n",
    "<br/>\n",
    "\n",
    "<div style=\"text-align: justify;  margin-left: 15%; margin-right: 15%;font-size: 75%; border-style: solid; border-color: #0077b9; border-width: 1px; padding: 5px;\">\n",
    "    <b>This Jupyter Notebook is a supplement of the following paper:</b>\n",
    "    <div style=\"margin-left: 10px; margin-right: 10px; margin-top:10px\">\n",
    "      <p> Zioti, F.; Ferreira, K.R.; Queiroz, G.R.; Neves, A.K.; Carlos, F.M.; Souza, F.C.; Santos, L.; Simoes, R.E; 2021. A platform for land use and land cover data integration and trajectory analysis. </p>\n",
    "    </div>\n",
    "</div>\n",
    "<hr style=\"border:2px solid #0077b9;\">"
   ]
  },
  {
   "cell_type": "markdown",
   "id": "proprietary-training",
   "metadata": {},
   "source": [
    "Import the required librarys"
   ]
  },
  {
   "cell_type": "code",
   "execution_count": null,
   "id": "arranged-johnston",
   "metadata": {},
   "outputs": [],
   "source": [
    "from wlts import WLTS\n",
    "from lccs import LCCS\n",
    "from loguru import logger\n",
    "from tinydb import TinyDB\n",
    "import numpy\n",
    "import pandas\n",
    "import geopandas\n",
    "import json\n",
    "import fiona"
   ]
  },
  {
   "cell_type": "markdown",
   "id": "caroline-picnic",
   "metadata": {},
   "source": [
    "## Configurations\n",
    "\n",
    "To run the codes presented in this document, we need to make some settings. The first one is the definition of the addresses of the **W**eb **L**and **T**rajectory **S**ervice (WLTS) and **W**eb **L**and **C**lassification **S**ystem **S**ervice (WLCSS) services.\n",
    "\n",
    "Thus, in this example, we will use these services provided by the [Brazil Data Cube project](http://brazildatacube.org/). The addresses are defined below:"
   ]
  },
  {
   "cell_type": "code",
   "execution_count": null,
   "id": "irish-spirit",
   "metadata": {},
   "outputs": [],
   "source": [
    "#\n",
    "# Web Land Trajectory Service (WLTS) URL\n",
    "#\n",
    "wlts_service_url = \"https://brazildatacube.dpi.inpe.br/wlts/\"\n",
    "\n",
    "#\n",
    "# Web Land Classification System Service (WLCSS) URL\n",
    "#\n",
    "lccs_service_url = \"https://brazildatacube.dpi.inpe.br/lccs/\""
   ]
  },
  {
   "cell_type": "markdown",
   "id": "indie-locking",
   "metadata": {},
   "source": [
    "Define WLTS query parameters:"
   ]
  },
  {
   "cell_type": "code",
   "execution_count": null,
   "id": "equivalent-zimbabwe",
   "metadata": {},
   "outputs": [],
   "source": [
    "start_date = 2014\n",
    "end_date = 2014\n",
    "collections = 'terraclass_amazonia-v2,mapbiomas_amazonia-v5'"
   ]
  },
  {
   "cell_type": "markdown",
   "id": "democratic-approval",
   "metadata": {},
   "source": [
    "Define the services:"
   ]
  },
  {
   "cell_type": "code",
   "execution_count": null,
   "id": "supported-people",
   "metadata": {},
   "outputs": [],
   "source": [
    "# Define Services\n",
    "service = WLTS(wlts_service_url,access_token='change-me')\n",
    "service_lccs = LCCS(lccs_service_url)"
   ]
  },
  {
   "cell_type": "markdown",
   "id": "reflected-microphone",
   "metadata": {},
   "source": [
    "Path with the data file of the area of interest:"
   ]
  },
  {
   "cell_type": "code",
   "execution_count": null,
   "id": "endless-jordan",
   "metadata": {},
   "outputs": [],
   "source": [
    "file_path = '../../data/raw_data/study-area_sao-felix-do-xingu/sao-felix-do-xingu_utm_sqr_pts1km.shp'"
   ]
  },
  {
   "cell_type": "markdown",
   "id": "polish-freight",
   "metadata": {},
   "source": [
    "Prepare tinydb to save the returned trajectories and use the logger module to to assist in monitoring operations:"
   ]
  },
  {
   "cell_type": "code",
   "execution_count": null,
   "id": "unlike-curve",
   "metadata": {},
   "outputs": [],
   "source": [
    "logger.add(\"../../data/derived_data/python-scripts/download_points_{time}.log\")\n",
    "\n",
    "db = TinyDB('../../data/derived_data/python-scripts/points_wlts.json', ensure_ascii=False)\n",
    "last_row = db.get(doc_id=len(db))"
   ]
  },
  {
   "cell_type": "markdown",
   "id": "undefined-chocolate",
   "metadata": {},
   "source": [
    "Reads the shapefile that contains the locations of interest:"
   ]
  },
  {
   "cell_type": "code",
   "execution_count": null,
   "id": "invalid-homework",
   "metadata": {},
   "outputs": [],
   "source": [
    "df = geopandas.read_file(file_path)\n",
    "df_parts = numpy.array_split(df, 150)"
   ]
  },
  {
   "cell_type": "markdown",
   "id": "unknown-essex",
   "metadata": {},
   "source": [
    "For each location in the region of interest, search for the trajectory. The trajectory is returned has a unique classification system. This system is defined by the parameter **target_system**."
   ]
  },
  {
   "cell_type": "code",
   "execution_count": null,
   "id": "crucial-somerset",
   "metadata": {},
   "outputs": [],
   "source": [
    "for idx, part in enumerate(df_parts):\n",
    "    for idx2, row in part.iterrows():\n",
    "#         \n",
    "#       Check if this location has already been consulted.\n",
    "#       If it is a new location, the next step is performed\n",
    "# \n",
    "        if last_row and idx2 <= last_row['id']:\n",
    "            continue\n",
    "# \n",
    "#       Shows in which step the data query is located\n",
    "# \n",
    "        logger.info(f'Part({idx}) | row({idx2})')\n",
    "\n",
    "#     \n",
    "#       Retrieve the LULC path from the WLTS service    \n",
    "# \n",
    "        _res = service.tj(latitude = row.geometry.y,\n",
    "                          longitude = row.geometry.x,\n",
    "                          collections = collections,\n",
    "                          start_date = start_date,\n",
    "                          end_date = end_date,\n",
    "                          target_system='Simplified-legend-TM-1')\n",
    "# \n",
    "#       Save the result using tinydb\n",
    "# \n",
    "        db.insert({'id': idx2, **_res})\n"
   ]
  },
  {
   "cell_type": "code",
   "execution_count": null,
   "id": "advised-alexander",
   "metadata": {},
   "outputs": [],
   "source": []
  }
 ],
 "metadata": {
  "kernelspec": {
   "display_name": "jupyter-env",
   "language": "python",
   "name": "jupyter-env"
  },
  "language_info": {
   "codemirror_mode": {
    "name": "ipython",
    "version": 3
   },
   "file_extension": ".py",
   "mimetype": "text/x-python",
   "name": "python",
   "nbconvert_exporter": "python",
   "pygments_lexer": "ipython3",
   "version": "3.7.10"
  }
 },
 "nbformat": 4,
 "nbformat_minor": 5
}
